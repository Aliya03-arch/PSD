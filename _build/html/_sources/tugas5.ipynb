{
 "cells": [
  {
   "cell_type": "markdown",
   "id": "beb6ec77",
   "metadata": {},
   "source": [
    "# DATA PREPOCESSING"
   ]
  },
  {
   "cell_type": "code",
   "execution_count": 2,
   "id": "4eb9f8c8",
   "metadata": {},
   "outputs": [
    {
     "name": "stderr",
     "output_type": "stream",
     "text": [
      "'sudo' is not recognized as an internal or external command,\n",
      "operable program or batch file.\n",
      "'sudo' is not recognized as an internal or external command,\n",
      "operable program or batch file.\n",
      "'sudo' is not recognized as an internal or external command,\n",
      "operable program or batch file.\n",
      "Python was not found; run without arguments to install from the Microsoft Store, or disable this shortcut from Settings > Manage App Execution Aliases.\n",
      "Python was not found; run without arguments to install from the Microsoft Store, or disable this shortcut from Settings > Manage App Execution Aliases.\n"
     ]
    }
   ],
   "source": [
    "# Install Python 3.11\n",
    "!sudo apt-get update\n",
    "!sudo apt-get install python3.11 python3.11-distutils -y\n",
    "\n",
    "# Set python3 default ke versi 3.11\n",
    "!sudo update-alternatives --install /usr/bin/python3 python3 /usr/bin/python3.11 1\n",
    "\n",
    "# Upgrade pip\n",
    "!python3 -m ensurepip --upgrade\n",
    "!python3 -m pip install --upgrade pip"
   ]
  },
  {
   "cell_type": "code",
   "execution_count": 3,
   "id": "238d38fb",
   "metadata": {},
   "outputs": [
    {
     "name": "stdout",
     "output_type": "stream",
     "text": [
      "Requirement already satisfied: pycaret in c:\\users\\thinkpad\\appdata\\local\\programs\\python\\python39\\lib\\site-packages (3.3.2)\n",
      "Requirement already satisfied: kaleido>=0.2.1 in c:\\users\\thinkpad\\appdata\\local\\programs\\python\\python39\\lib\\site-packages (from pycaret) (1.0.0)\n",
      "Requirement already satisfied: pmdarima>=2.0.4 in c:\\users\\thinkpad\\appdata\\local\\programs\\python\\python39\\lib\\site-packages (from pycaret) (2.0.4)\n",
      "Requirement already satisfied: matplotlib<3.8.0 in c:\\users\\thinkpad\\appdata\\local\\programs\\python\\python39\\lib\\site-packages (from pycaret) (3.7.5)\n",
      "Requirement already satisfied: nbformat>=4.2.0 in c:\\users\\thinkpad\\appdata\\local\\programs\\python\\python39\\lib\\site-packages (from pycaret) (5.10.4)\n",
      "Requirement already satisfied: yellowbrick>=1.4 in c:\\users\\thinkpad\\appdata\\local\\programs\\python\\python39\\lib\\site-packages (from pycaret) (1.5)\n",
      "Requirement already satisfied: statsmodels>=0.12.1 in c:\\users\\thinkpad\\appdata\\local\\programs\\python\\python39\\lib\\site-packages (from pycaret) (0.14.5)\n",
      "Requirement already satisfied: psutil>=5.9.0 in c:\\users\\thinkpad\\appdata\\local\\programs\\python\\python39\\lib\\site-packages (from pycaret) (7.0.0)\n",
      "Requirement already satisfied: scipy<=1.11.4,>=1.6.1 in c:\\users\\thinkpad\\appdata\\local\\programs\\python\\python39\\lib\\site-packages (from pycaret) (1.11.4)\n",
      "Requirement already satisfied: markupsafe>=2.0.1 in c:\\users\\thinkpad\\appdata\\local\\programs\\python\\python39\\lib\\site-packages (from pycaret) (3.0.2)\n",
      "Requirement already satisfied: importlib-metadata>=4.12.0 in c:\\users\\thinkpad\\appdata\\local\\programs\\python\\python39\\lib\\site-packages (from pycaret) (8.7.0)\n",
      "Requirement already satisfied: imbalanced-learn>=0.12.0 in c:\\users\\thinkpad\\appdata\\local\\programs\\python\\python39\\lib\\site-packages (from pycaret) (0.12.4)\n",
      "Requirement already satisfied: deprecation>=2.1.0 in c:\\users\\thinkpad\\appdata\\local\\programs\\python\\python39\\lib\\site-packages (from pycaret) (2.1.0)\n",
      "Requirement already satisfied: xxhash in c:\\users\\thinkpad\\appdata\\local\\programs\\python\\python39\\lib\\site-packages (from pycaret) (3.5.0)\n",
      "Requirement already satisfied: requests>=2.27.1 in c:\\users\\thinkpad\\appdata\\local\\programs\\python\\python39\\lib\\site-packages (from pycaret) (2.32.5)\n",
      "Requirement already satisfied: tqdm>=4.62.0 in c:\\users\\thinkpad\\appdata\\local\\programs\\python\\python39\\lib\\site-packages (from pycaret) (4.67.1)\n",
      "Requirement already satisfied: numpy<1.27,>=1.21 in c:\\users\\thinkpad\\appdata\\local\\programs\\python\\python39\\lib\\site-packages (from pycaret) (1.26.4)\n",
      "Requirement already satisfied: joblib<1.4,>=1.2.0 in c:\\users\\thinkpad\\appdata\\local\\programs\\python\\python39\\lib\\site-packages (from pycaret) (1.3.2)\n",
      "Requirement already satisfied: ipython>=5.5.0 in c:\\users\\thinkpad\\appdata\\local\\programs\\python\\python39\\lib\\site-packages (from pycaret) (8.18.1)\n",
      "Requirement already satisfied: jinja2>=3 in c:\\users\\thinkpad\\appdata\\local\\programs\\python\\python39\\lib\\site-packages (from pycaret) (3.1.6)\n",
      "Requirement already satisfied: scikit-learn>1.4.0 in c:\\users\\thinkpad\\appdata\\local\\programs\\python\\python39\\lib\\site-packages (from pycaret) (1.6.1)\n",
      "Requirement already satisfied: plotly>=5.14.0 in c:\\users\\thinkpad\\appdata\\local\\programs\\python\\python39\\lib\\site-packages (from pycaret) (6.3.0)\n",
      "Requirement already satisfied: sktime==0.26.0 in c:\\users\\thinkpad\\appdata\\local\\programs\\python\\python39\\lib\\site-packages (from pycaret) (0.26.0)\n",
      "Requirement already satisfied: scikit-plot>=0.3.7 in c:\\users\\thinkpad\\appdata\\local\\programs\\python\\python39\\lib\\site-packages (from pycaret) (0.3.7)\n",
      "Requirement already satisfied: lightgbm>=3.0.0 in c:\\users\\thinkpad\\appdata\\local\\programs\\python\\python39\\lib\\site-packages (from pycaret) (4.6.0)\n",
      "Requirement already satisfied: ipywidgets>=7.6.5 in c:\\users\\thinkpad\\appdata\\local\\programs\\python\\python39\\lib\\site-packages (from pycaret) (8.1.7)\n",
      "Requirement already satisfied: numba>=0.55.0 in c:\\users\\thinkpad\\appdata\\local\\programs\\python\\python39\\lib\\site-packages (from pycaret) (0.60.0)\n",
      "Requirement already satisfied: pyod>=1.1.3 in c:\\users\\thinkpad\\appdata\\local\\programs\\python\\python39\\lib\\site-packages (from pycaret) (2.0.5)\n",
      "Requirement already satisfied: schemdraw==0.15 in c:\\users\\thinkpad\\appdata\\local\\programs\\python\\python39\\lib\\site-packages (from pycaret) (0.15)\n",
      "Requirement already satisfied: pandas<2.2.0 in c:\\users\\thinkpad\\appdata\\local\\programs\\python\\python39\\lib\\site-packages (from pycaret) (2.1.4)\n",
      "Requirement already satisfied: cloudpickle in c:\\users\\thinkpad\\appdata\\local\\programs\\python\\python39\\lib\\site-packages (from pycaret) (3.1.1)\n",
      "Requirement already satisfied: tbats>=1.1.3 in c:\\users\\thinkpad\\appdata\\local\\programs\\python\\python39\\lib\\site-packages (from pycaret) (1.1.3)\n",
      "Requirement already satisfied: plotly-resampler>=0.8.3.1 in c:\\users\\thinkpad\\appdata\\local\\programs\\python\\python39\\lib\\site-packages (from pycaret) (0.11.0)\n",
      "Requirement already satisfied: category-encoders>=2.4.0 in c:\\users\\thinkpad\\appdata\\local\\programs\\python\\python39\\lib\\site-packages (from pycaret) (2.6.4)\n",
      "Requirement already satisfied: orjson>=3.10.15 in c:\\users\\thinkpad\\appdata\\local\\programs\\python\\python39\\lib\\site-packages (from kaleido>=0.2.1->pycaret) (3.11.3)\n",
      "Requirement already satisfied: logistro>=1.0.8 in c:\\users\\thinkpad\\appdata\\local\\programs\\python\\python39\\lib\\site-packages (from kaleido>=0.2.1->pycaret) (1.1.0)\n",
      "Requirement already satisfied: packaging in c:\\users\\thinkpad\\appdata\\local\\programs\\python\\python39\\lib\\site-packages (from kaleido>=0.2.1->pycaret) (25.0)\n",
      "Requirement already satisfied: choreographer>=1.0.5 in c:\\users\\thinkpad\\appdata\\local\\programs\\python\\python39\\lib\\site-packages (from kaleido>=0.2.1->pycaret) (1.0.10)\n",
      "Requirement already satisfied: setuptools!=50.0.0,>=38.6.0 in c:\\users\\thinkpad\\appdata\\local\\programs\\python\\python39\\lib\\site-packages (from pmdarima>=2.0.4->pycaret) (49.2.1)\n",
      "Requirement already satisfied: urllib3 in c:\\users\\thinkpad\\appdata\\local\\programs\\python\\python39\\lib\\site-packages (from pmdarima>=2.0.4->pycaret) (2.5.0)\n",
      "Requirement already satisfied: Cython!=0.29.18,!=0.29.31,>=0.29 in c:\\users\\thinkpad\\appdata\\local\\programs\\python\\python39\\lib\\site-packages (from pmdarima>=2.0.4->pycaret) (3.1.3)\n",
      "Requirement already satisfied: importlib-resources>=3.2.0; python_version < \"3.10\" in c:\\users\\thinkpad\\appdata\\local\\programs\\python\\python39\\lib\\site-packages (from matplotlib<3.8.0->pycaret) (6.5.2)\n",
      "Requirement already satisfied: python-dateutil>=2.7 in c:\\users\\thinkpad\\appdata\\local\\programs\\python\\python39\\lib\\site-packages (from matplotlib<3.8.0->pycaret) (2.9.0.post0)\n",
      "Requirement already satisfied: kiwisolver>=1.0.1 in c:\\users\\thinkpad\\appdata\\local\\programs\\python\\python39\\lib\\site-packages (from matplotlib<3.8.0->pycaret) (1.4.7)\n",
      "Requirement already satisfied: pillow>=6.2.0 in c:\\users\\thinkpad\\appdata\\local\\programs\\python\\python39\\lib\\site-packages (from matplotlib<3.8.0->pycaret) (11.3.0)\n",
      "Requirement already satisfied: cycler>=0.10 in c:\\users\\thinkpad\\appdata\\local\\programs\\python\\python39\\lib\\site-packages (from matplotlib<3.8.0->pycaret) (0.12.1)\n",
      "Requirement already satisfied: pyparsing>=2.3.1 in c:\\users\\thinkpad\\appdata\\local\\programs\\python\\python39\\lib\\site-packages (from matplotlib<3.8.0->pycaret) (3.2.3)\n",
      "Requirement already satisfied: contourpy>=1.0.1 in c:\\users\\thinkpad\\appdata\\local\\programs\\python\\python39\\lib\\site-packages (from matplotlib<3.8.0->pycaret) (1.3.0)\n",
      "Requirement already satisfied: fonttools>=4.22.0 in c:\\users\\thinkpad\\appdata\\local\\programs\\python\\python39\\lib\\site-packages (from matplotlib<3.8.0->pycaret) (4.59.2)\n",
      "Requirement already satisfied: jupyter-core!=5.0.*,>=4.12 in c:\\users\\thinkpad\\appdata\\local\\programs\\python\\python39\\lib\\site-packages (from nbformat>=4.2.0->pycaret) (5.8.1)\n",
      "Requirement already satisfied: traitlets>=5.1 in c:\\users\\thinkpad\\appdata\\local\\programs\\python\\python39\\lib\\site-packages (from nbformat>=4.2.0->pycaret) (5.14.3)\n",
      "Requirement already satisfied: fastjsonschema>=2.15 in c:\\users\\thinkpad\\appdata\\local\\programs\\python\\python39\\lib\\site-packages (from nbformat>=4.2.0->pycaret) (2.21.2)\n",
      "Requirement already satisfied: jsonschema>=2.6 in c:\\users\\thinkpad\\appdata\\local\\programs\\python\\python39\\lib\\site-packages (from nbformat>=4.2.0->pycaret) (4.25.1)\n",
      "Requirement already satisfied: patsy>=0.5.6 in c:\\users\\thinkpad\\appdata\\local\\programs\\python\\python39\\lib\\site-packages (from statsmodels>=0.12.1->pycaret) (1.0.1)\n",
      "Requirement already satisfied: zipp>=3.20 in c:\\users\\thinkpad\\appdata\\local\\programs\\python\\python39\\lib\\site-packages (from importlib-metadata>=4.12.0->pycaret) (3.23.0)\n",
      "Requirement already satisfied: threadpoolctl>=2.0.0 in c:\\users\\thinkpad\\appdata\\local\\programs\\python\\python39\\lib\\site-packages (from imbalanced-learn>=0.12.0->pycaret) (3.6.0)\n",
      "Requirement already satisfied: idna<4,>=2.5 in c:\\users\\thinkpad\\appdata\\local\\programs\\python\\python39\\lib\\site-packages (from requests>=2.27.1->pycaret) (3.10)\n",
      "Requirement already satisfied: charset_normalizer<4,>=2 in c:\\users\\thinkpad\\appdata\\local\\programs\\python\\python39\\lib\\site-packages (from requests>=2.27.1->pycaret) (3.4.3)\n",
      "Requirement already satisfied: certifi>=2017.4.17 in c:\\users\\thinkpad\\appdata\\local\\programs\\python\\python39\\lib\\site-packages (from requests>=2.27.1->pycaret) (2025.8.3)\n",
      "Requirement already satisfied: colorama; platform_system == \"Windows\" in c:\\users\\thinkpad\\appdata\\local\\programs\\python\\python39\\lib\\site-packages (from tqdm>=4.62.0->pycaret) (0.4.6)\n",
      "Requirement already satisfied: stack-data in c:\\users\\thinkpad\\appdata\\local\\programs\\python\\python39\\lib\\site-packages (from ipython>=5.5.0->pycaret) (0.6.3)\n",
      "Requirement already satisfied: typing-extensions; python_version < \"3.10\" in c:\\users\\thinkpad\\appdata\\local\\programs\\python\\python39\\lib\\site-packages (from ipython>=5.5.0->pycaret) (4.15.0)\n",
      "Requirement already satisfied: jedi>=0.16 in c:\\users\\thinkpad\\appdata\\local\\programs\\python\\python39\\lib\\site-packages (from ipython>=5.5.0->pycaret) (0.19.2)\n",
      "Requirement already satisfied: decorator in c:\\users\\thinkpad\\appdata\\local\\programs\\python\\python39\\lib\\site-packages (from ipython>=5.5.0->pycaret) (5.2.1)\n",
      "Requirement already satisfied: prompt-toolkit<3.1.0,>=3.0.41 in c:\\users\\thinkpad\\appdata\\local\\programs\\python\\python39\\lib\\site-packages (from ipython>=5.5.0->pycaret) (3.0.52)\n",
      "Requirement already satisfied: matplotlib-inline in c:\\users\\thinkpad\\appdata\\local\\programs\\python\\python39\\lib\\site-packages (from ipython>=5.5.0->pycaret) (0.1.7)\n",
      "Requirement already satisfied: exceptiongroup; python_version < \"3.11\" in c:\\users\\thinkpad\\appdata\\local\\programs\\python\\python39\\lib\\site-packages (from ipython>=5.5.0->pycaret) (1.3.0)\n",
      "Requirement already satisfied: pygments>=2.4.0 in c:\\users\\thinkpad\\appdata\\local\\programs\\python\\python39\\lib\\site-packages (from ipython>=5.5.0->pycaret) (2.19.2)\n",
      "Requirement already satisfied: narwhals>=1.15.1 in c:\\users\\thinkpad\\appdata\\local\\programs\\python\\python39\\lib\\site-packages (from plotly>=5.14.0->pycaret) (2.3.0)\n",
      "Requirement already satisfied: scikit-base<0.8.0 in c:\\users\\thinkpad\\appdata\\local\\programs\\python\\python39\\lib\\site-packages (from sktime==0.26.0->pycaret) (0.7.8)\n",
      "Requirement already satisfied: comm>=0.1.3 in c:\\users\\thinkpad\\appdata\\local\\programs\\python\\python39\\lib\\site-packages (from ipywidgets>=7.6.5->pycaret) (0.2.3)\n",
      "Requirement already satisfied: jupyterlab_widgets~=3.0.15 in c:\\users\\thinkpad\\appdata\\local\\programs\\python\\python39\\lib\\site-packages (from ipywidgets>=7.6.5->pycaret) (3.0.15)\n",
      "Requirement already satisfied: widgetsnbextension~=4.0.14 in c:\\users\\thinkpad\\appdata\\local\\programs\\python\\python39\\lib\\site-packages (from ipywidgets>=7.6.5->pycaret) (4.0.14)\n",
      "Requirement already satisfied: llvmlite<0.44,>=0.43.0dev0 in c:\\users\\thinkpad\\appdata\\local\\programs\\python\\python39\\lib\\site-packages (from numba>=0.55.0->pycaret) (0.43.0)\n",
      "Requirement already satisfied: pytz>=2020.1 in c:\\users\\thinkpad\\appdata\\local\\programs\\python\\python39\\lib\\site-packages (from pandas<2.2.0->pycaret) (2025.2)\n",
      "Requirement already satisfied: tzdata>=2022.1 in c:\\users\\thinkpad\\appdata\\local\\programs\\python\\python39\\lib\\site-packages (from pandas<2.2.0->pycaret) (2025.2)\n",
      "Requirement already satisfied: dash>=2.11.0 in c:\\users\\thinkpad\\appdata\\local\\programs\\python\\python39\\lib\\site-packages (from plotly-resampler>=0.8.3.1->pycaret) (3.2.0)\n",
      "Requirement already satisfied: tsdownsample>=0.1.3 in c:\\users\\thinkpad\\appdata\\local\\programs\\python\\python39\\lib\\site-packages (from plotly-resampler>=0.8.3.1->pycaret) (0.1.4.1)\n",
      "Requirement already satisfied: simplejson>=3.19.3 in c:\\users\\thinkpad\\appdata\\local\\programs\\python\\python39\\lib\\site-packages (from choreographer>=1.0.5->kaleido>=0.2.1->pycaret) (3.20.1)\n",
      "Requirement already satisfied: six>=1.5 in c:\\users\\thinkpad\\appdata\\local\\programs\\python\\python39\\lib\\site-packages (from python-dateutil>=2.7->matplotlib<3.8.0->pycaret) (1.17.0)\n",
      "Requirement already satisfied: pywin32>=300; sys_platform == \"win32\" and platform_python_implementation != \"PyPy\" in c:\\users\\thinkpad\\appdata\\local\\programs\\python\\python39\\lib\\site-packages (from jupyter-core!=5.0.*,>=4.12->nbformat>=4.2.0->pycaret) (311)\n",
      "Requirement already satisfied: platformdirs>=2.5 in c:\\users\\thinkpad\\appdata\\local\\programs\\python\\python39\\lib\\site-packages (from jupyter-core!=5.0.*,>=4.12->nbformat>=4.2.0->pycaret) (4.4.0)\n",
      "Requirement already satisfied: jsonschema-specifications>=2023.03.6 in c:\\users\\thinkpad\\appdata\\local\\programs\\python\\python39\\lib\\site-packages (from jsonschema>=2.6->nbformat>=4.2.0->pycaret) (2025.4.1)\n",
      "Requirement already satisfied: rpds-py>=0.7.1 in c:\\users\\thinkpad\\appdata\\local\\programs\\python\\python39\\lib\\site-packages (from jsonschema>=2.6->nbformat>=4.2.0->pycaret) (0.27.1)\n",
      "Requirement already satisfied: attrs>=22.2.0 in c:\\users\\thinkpad\\appdata\\local\\programs\\python\\python39\\lib\\site-packages (from jsonschema>=2.6->nbformat>=4.2.0->pycaret) (25.3.0)\n",
      "Requirement already satisfied: referencing>=0.28.4 in c:\\users\\thinkpad\\appdata\\local\\programs\\python\\python39\\lib\\site-packages (from jsonschema>=2.6->nbformat>=4.2.0->pycaret) (0.36.2)\n",
      "Requirement already satisfied: executing>=1.2.0 in c:\\users\\thinkpad\\appdata\\local\\programs\\python\\python39\\lib\\site-packages (from stack-data->ipython>=5.5.0->pycaret) (2.2.0)\n",
      "Requirement already satisfied: pure-eval in c:\\users\\thinkpad\\appdata\\local\\programs\\python\\python39\\lib\\site-packages (from stack-data->ipython>=5.5.0->pycaret) (0.2.3)\n",
      "Requirement already satisfied: asttokens>=2.1.0 in c:\\users\\thinkpad\\appdata\\local\\programs\\python\\python39\\lib\\site-packages (from stack-data->ipython>=5.5.0->pycaret) (3.0.0)\n",
      "Requirement already satisfied: parso<0.9.0,>=0.8.4 in c:\\users\\thinkpad\\appdata\\local\\programs\\python\\python39\\lib\\site-packages (from jedi>=0.16->ipython>=5.5.0->pycaret) (0.8.5)\n",
      "Requirement already satisfied: wcwidth in c:\\users\\thinkpad\\appdata\\local\\programs\\python\\python39\\lib\\site-packages (from prompt-toolkit<3.1.0,>=3.0.41->ipython>=5.5.0->pycaret) (0.2.13)\n",
      "Requirement already satisfied: retrying in c:\\users\\thinkpad\\appdata\\local\\programs\\python\\python39\\lib\\site-packages (from dash>=2.11.0->plotly-resampler>=0.8.3.1->pycaret) (1.4.2)\n",
      "Requirement already satisfied: nest-asyncio in c:\\users\\thinkpad\\appdata\\local\\programs\\python\\python39\\lib\\site-packages (from dash>=2.11.0->plotly-resampler>=0.8.3.1->pycaret) (1.6.0)\n",
      "Requirement already satisfied: Werkzeug<3.2 in c:\\users\\thinkpad\\appdata\\local\\programs\\python\\python39\\lib\\site-packages (from dash>=2.11.0->plotly-resampler>=0.8.3.1->pycaret) (3.1.3)\n",
      "Requirement already satisfied: Flask<3.2,>=1.0.4 in c:\\users\\thinkpad\\appdata\\local\\programs\\python\\python39\\lib\\site-packages (from dash>=2.11.0->plotly-resampler>=0.8.3.1->pycaret) (3.1.2)\n",
      "Requirement already satisfied: click>=8.1.3 in c:\\users\\thinkpad\\appdata\\local\\programs\\python\\python39\\lib\\site-packages (from Flask<3.2,>=1.0.4->dash>=2.11.0->plotly-resampler>=0.8.3.1->pycaret) (8.1.8)\n",
      "Requirement already satisfied: itsdangerous>=2.2.0 in c:\\users\\thinkpad\\appdata\\local\\programs\\python\\python39\\lib\\site-packages (from Flask<3.2,>=1.0.4->dash>=2.11.0->plotly-resampler>=0.8.3.1->pycaret) (2.2.0)\n",
      "Requirement already satisfied: blinker>=1.9.0 in c:\\users\\thinkpad\\appdata\\local\\programs\\python\\python39\\lib\\site-packages (from Flask<3.2,>=1.0.4->dash>=2.11.0->plotly-resampler>=0.8.3.1->pycaret) (1.9.0)\n"
     ]
    },
    {
     "name": "stderr",
     "output_type": "stream",
     "text": [
      "WARNING: You are using pip version 20.2.3; however, version 25.2 is available.\n",
      "You should consider upgrading via the 'c:\\users\\thinkpad\\appdata\\local\\programs\\python\\python39\\python.exe -m pip install --upgrade pip' command.\n"
     ]
    }
   ],
   "source": [
    "!pip install pycaret"
   ]
  },
  {
   "cell_type": "code",
   "execution_count": 4,
   "id": "5564c478",
   "metadata": {},
   "outputs": [
    {
     "ename": "ModuleNotFoundError",
     "evalue": "No module named 'pycaret'",
     "output_type": "error",
     "traceback": [
      "\u001b[1;31m---------------------------------------------------------------------------\u001b[0m",
      "\u001b[1;31mModuleNotFoundError\u001b[0m                       Traceback (most recent call last)",
      "Cell \u001b[1;32mIn[4], line 1\u001b[0m\n\u001b[1;32m----> 1\u001b[0m \u001b[38;5;28;01mfrom\u001b[39;00m\u001b[38;5;250m \u001b[39m\u001b[38;5;21;01mpycaret\u001b[39;00m\u001b[38;5;21;01m.\u001b[39;00m\u001b[38;5;21;01manomaly\u001b[39;00m\u001b[38;5;250m \u001b[39m\u001b[38;5;28;01mimport\u001b[39;00m \u001b[38;5;241m*\u001b[39m\n\u001b[0;32m      3\u001b[0m \u001b[38;5;66;03m# Ambil hanya fitur numerik\u001b[39;00m\n\u001b[0;32m      4\u001b[0m X \u001b[38;5;241m=\u001b[39m df[numerical_features]\n",
      "\u001b[1;31mModuleNotFoundError\u001b[0m: No module named 'pycaret'"
     ]
    }
   ],
   "source": [
    "from pycaret.anomaly import *\n",
    "\n",
    "# Ambil hanya fitur numerik\n",
    "X = df[numerical_features]\n",
    "\n",
    "# Setup PyCaret\n",
    "exp_ano = setup(data=X, normalize=True, silent=True)\n",
    "\n",
    "# --- ABOD ---\n",
    "abod_model = create_model('abod')\n",
    "abod_results = assign_model(abod_model)  # menambahkan kolom 'Anomaly'\n",
    "abod_normal = abod_results[abod_results['Anomaly'] == 0]\n",
    "abod_outlier = abod_results[abod_results['Anomaly'] == 1]\n",
    "print(\"\\nABOD Outlier Count:\", len(abod_outlier))\n",
    "\n",
    "# --- KNN ---\n",
    "knn_model = create_model('knn')\n",
    "knn_results = assign_model(knn_model)\n",
    "knn_normal = knn_results[knn_results['Anomaly'] == 0]\n",
    "knn_outlier = knn_results[knn_results['Anomaly'] == 1]\n",
    "print(\"KNN Outlier Count:\", len(knn_outlier))\n",
    "\n",
    "# --- LOF ---\n",
    "lof_model = create_model('lof')\n",
    "lof_results = assign_model(lof_model)\n",
    "lof_normal = lof_results[lof_results['Anomaly'] == 0]\n",
    "lof_outlier = lof_results[lof_results['Anomaly'] == 1]\n",
    "print(\"LOF Outlier Count:\", len(lof_outlier))"
   ]
  }
 ],
 "metadata": {
  "kernelspec": {
   "display_name": "Python 3",
   "language": "python",
   "name": "python3"
  },
  "language_info": {
   "codemirror_mode": {
    "name": "ipython",
    "version": 3
   },
   "file_extension": ".py",
   "mimetype": "text/x-python",
   "name": "python",
   "nbconvert_exporter": "python",
   "pygments_lexer": "ipython3",
   "version": "3.10.11"
  }
 },
 "nbformat": 4,
 "nbformat_minor": 5
}
