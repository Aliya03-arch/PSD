{
 "cells": [
  {
   "cell_type": "markdown",
   "id": "143b9e61",
   "metadata": {},
   "source": [
    "# TUGAS MENGGABUNGKAN DATA"
   ]
  },
  {
   "cell_type": "markdown",
   "id": "7ed7257b",
   "metadata": {},
   "source": []
  }
 ],
 "metadata": {
  "language_info": {
   "name": "python"
  }
 },
 "nbformat": 4,
 "nbformat_minor": 5
}
