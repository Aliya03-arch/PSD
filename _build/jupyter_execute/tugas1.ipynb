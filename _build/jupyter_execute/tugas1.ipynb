{
 "cells": [
  {
   "cell_type": "markdown",
   "id": "20142ea3",
   "metadata": {},
   "source": [
    "# Business Understanding CRISP DM"
   ]
  },
  {
   "cell_type": "markdown",
   "id": "f759f406",
   "metadata": {},
   "source": [
    "#### Metodologi CRISP-DM memiliki enam tahapan yaitu business understanding, data understanding, data preparation, modelling, evaluation, dan deployment"
   ]
  },
  {
   "cell_type": "markdown",
   "id": "8106ecf3",
   "metadata": {},
   "source": [
    "Business Understanding adalah fase pertama dalam metodologi CRISP-DM (Cross-Industry Standard Process for Data Mining). Dalam tahap ini, fokus utamanya adalah memahami dengan mendalam tujuan dan konteks bisnis sebelum memulai aktivitas data mining atau analisis data\n",
    "\n",
    "Empat tugas utama dalam fase ini:\n",
    "\n",
    "1. Menentukan tujuan bisnis (Determine business objectives)\n",
    "Mengidentifikasi apa yang sebenarnya ingin dicapai oleh organisasi. Ini mencakup pemahaman masalah utama, tujuan strategis, dan kriteria keberhasilan bisnis \n",
    "Data Science PM\n",
    "Dummies\n",
    "Program Studi Sistem Informasi\n",
    "\n",
    "2. Menilai situasi (Assess situation)\n",
    "Mengevaluasi kondisi saat ini — termasuk sumber daya yang tersedia, batasan proyek, risiko, serta analisis cost–benefit \n",
    "Data Science PM\n",
    "Medium\n",
    "Program Studi Sistem Informasi\n",
    "\n",
    "3. Menentukan tujuan data mining (Determine data mining goals)\n",
    "Merumuskan apa yang ingin dicapai secara teknis melalui analitik/data mining. Ini adalah versi teknis dari tujuan bisnis dan harus memiliki kriteria sukses yang jelas \n",
    "Data Science PM\n",
    "Medium\n",
    "Program Studi Sistem Informasi\n",
    "\n",
    "4. Menyusun rencana proyek (Produce project plan)\n",
    "Membuat roadmap yang mencakup teknologi yang akan digunakan, tahapan proyek, jadwal, dan alokasi sumber daya \n",
    "Data Science PM\n",
    "Medium\n",
    "Program Studi Sistem Informasi\n",
    "\n",
    "Contoh Penerapan: Implementasi CRISP-DM di RetailMart\n",
    "\n",
    "Ambil contoh dari sumber yang menjelaskan sebuah kasus RetailMart:\n",
    "\n",
    "Latar belakang: Sebuah toko online elektronik menghadapi persaingan ketat dari platform pesaing baru. Mereka perlu mempertahankan profitabilitas di tengah biaya akuisisi pelanggan yang tinggi \n",
    "Program Studi Sistem Informasi\n",
    "\n",
    "Pihak RetailMart akan mengumpulkan data dari berbagai sumber, seperti transaksi penjualan, data demografi pelanggan, dan interaksi pelanggan di berbagai saluran. Setelah itu, RetailMart akan melakukan eksplorasi awal data untuk memahami distribusi, kualitas, dan keterkaitan data.\n",
    "\n",
    "\n",
    "Business Understanding dalam contoh ini mencakup:\n",
    "\n",
    "1. Tujuan bisnis:\n",
    "Mengurangi kehilangan pelanggan dengan tetap menjaga margin keuntungan. Misalnya: “Meningkatkan retensi pelanggan sebesar X% dalam 6 bulan.”\n",
    "\n",
    "2. Penilaian situasi:\n",
    "Memeriksa keterbatasan seperti data pelanggan yang tersedia (transaksi, browsing), sumber daya analitik tim, dan batasan anggaran atau teknis.\n",
    "\n",
    "3. Tujuan data mining:\n",
    "Merancang model prediktif churn (pelanggan yang berpotensi berhenti melakukan pembelian) dengan akurasi tertentu. Contoh: “Membuat model yang memprediksi churn dengan akurasi minimal 80%.”\n",
    "\n",
    "4. Rencana proyek:\n",
    "Menyusun timeline:\n",
    "\n",
    "Minggu 1–2: pemahaman bisnis & pengumpulan data\n",
    "\n",
    "Minggu 3–4: eksplorasi dan pembersihan data\n",
    "\n",
    "Minggu 5–6: pemodelan dan evaluasi\n",
    "\n",
    "Minggu 7: presentasi hasil + rencana deployment\n",
    "\n",
    "Hasilnya: perusahaan dapat menargetkan intervensi seperti penawaran khusus atau email personalisasi kepada pelanggan yang berisiko churn—berdasarkan output model prediktif.\n"
   ]
  }
 ],
 "metadata": {
  "language_info": {
   "codemirror_mode": {
    "name": "ipython",
    "version": 3
   },
   "file_extension": ".py",
   "mimetype": "text/x-python",
   "name": "python",
   "nbconvert_exporter": "python",
   "pygments_lexer": "ipython3",
   "version": "3.9.0"
  }
 },
 "nbformat": 4,
 "nbformat_minor": 5
}