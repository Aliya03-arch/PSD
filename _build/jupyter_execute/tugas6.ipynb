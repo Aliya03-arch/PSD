{
 "cells": [
  {
   "cell_type": "markdown",
   "id": "143b9e61",
   "metadata": {},
   "source": [
    "# TUGAS MENGGABUNGKAN DATA"
   ]
  },
  {
   "cell_type": "markdown",
   "id": "7ed7257b",
   "metadata": {},
   "source": []
  }
 ],
 "metadata": {
  "language_info": {
   "codemirror_mode": {
    "name": "ipython",
    "version": 3
   },
   "file_extension": ".py",
   "mimetype": "text/x-python",
   "name": "python",
   "nbconvert_exporter": "python",
   "pygments_lexer": "ipython3",
   "version": "3.9.0"
  }
 },
 "nbformat": 4,
 "nbformat_minor": 5
}