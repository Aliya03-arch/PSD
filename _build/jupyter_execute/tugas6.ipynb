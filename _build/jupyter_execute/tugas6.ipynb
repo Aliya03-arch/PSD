{
 "cells": [
  {
   "cell_type": "markdown",
   "id": "143b9e61",
   "metadata": {},
   "source": [
    "# TUGAS MENGGABUNGKAN DATA"
   ]
  },
  {
   "cell_type": "markdown",
   "id": "7ed7257b",
   "metadata": {},
   "source": [
    "# Transform data\n",
    "\n",
    "![image9.png](image9.png)\n",
    "\n",
    "\n",
    "Deskripsi Data\n",
    "\n",
    "Dataset ini merupakan kombinasi dari dua tabel, yaitu sepal dan petal, yang menyediakan rincian tentang bunga iris.\n",
    "Berdasarkan potongan yang terlihat, data ini menyajikan kolom-kolom berikut:\n",
    "- id_sepal : identifikasi unik untuk setiap baris dalam data sepal.\n",
    "- class : kategori bunga, di sini menunjukkan Iris-setosa.\n",
    "- sepal_length : ukuran panjang sepal (dalam cm).\n",
    "- sepal_width : ukuran lebar sepal (dalam cm).\n",
    "- id_petal, petal_length : tetap bernilai null karena informasi mengenai petal belum muncul di bagian ini (akan muncul jika baris berasal dari tabel petal).\n",
    "\n",
    "Jumlah keseluruhan data: 450 baris (kombinasi dari sepal dan petal).\n",
    "Data gabungan Iris ini menunjukkan rincian bunga Iris dengan atribut sepal dan petal yang masih terpisah (akibat dari proses penambahan). Dari bagian yang ditampilkan, terutama untuk spesies Iris-setosa, semua ukuran panjang dan lebar sepal berada dalam batas normal sehingga tidak ada outlier yang terdeteksi. Nilai kosong (null) di kolom petal bukan merupakan kesalahan data, tetapi merupakan hasil dari penggabungan tabel."
   ]
  }
 ],
 "metadata": {
  "language_info": {
   "codemirror_mode": {
    "name": "ipython",
    "version": 3
   },
   "file_extension": ".py",
   "mimetype": "text/x-python",
   "name": "python",
   "nbconvert_exporter": "python",
   "pygments_lexer": "ipython3",
   "version": "3.9.0"
  }
 },
 "nbformat": 4,
 "nbformat_minor": 5
}