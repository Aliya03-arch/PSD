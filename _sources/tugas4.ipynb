{
 "cells": [
  {
   "cell_type": "markdown",
   "id": "5dd47a7e",
   "metadata": {},
   "source": [
    "# TUGAS\n",
    "1. table iris dipecah dan dimasukkan ke dalam databse berbeda misal(mysql: SepalLengthCm, SepalWidthCm ; Postgre: PetalLengthCm, PetalWidthCm, Species) datanya ditarik menggunakan script, datanya digabung menggunakan power BI(Transform data)\n",
    "2. Install library pycaret (pip install pycaret)"
   ]
  },
  {
   "cell_type": "markdown",
   "id": "3104314b",
   "metadata": {},
   "source": [
    "# Kode script python \n",
    "import pandas as pd\n",
    "import pymysql\n",
    "import psycopg2\n",
    "\n",
    "mysql_conn = pymysql.connect(\n",
    "    host=\"localhost\",\n",
    "    user=\"root\",\n",
    "    password=\"ipins\",   \n",
    "    database=\"db_iris\",\n",
    "    port=3306\n",
    ")\n",
    "\n",
    "petal = pd.read_sql(\"SELECT * FROM petal\", mysql_conn)\n",
    "\n",
    "pg_conn = psycopg2.connect(\n",
    "    host=\"localhost\",\n",
    "    user=\"postgres\",  \n",
    "    password=\"ipins\",\n",
    "    database=\"irisdb\",\n",
    "    port=5432\n",
    ")\n",
    "\n",
    "sepal = pd.read_sql(\"SELECT * FROM sepal\", pg_conn)\n",
    "\n",
    "iris = pd.concat([petal, sepal], axis=1)\n",
    "\n",
    "dataset = iris\n",
    "\n"
   ]
  }
 ],
 "metadata": {
  "language_info": {
   "name": "python"
  }
 },
 "nbformat": 4,
 "nbformat_minor": 5
}
