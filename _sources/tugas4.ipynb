{
 "cells": [
  {
   "cell_type": "markdown",
   "id": "5dd47a7e",
   "metadata": {},
   "source": [
    "# TUGAS\n",
    "1. table iris dipecah dan dimasukkan ke dalam databse berbeda misal(mysql: SepalLengthCm, SepalWidthCm ; Postgre: PetalLengthCm, PetalWidthCm, Species) datanya ditarik menggunakan script, datanya digabung menggunakan power BI(Transform data)\n",
    "2. Install library pycaret (pip install pycaret)"
   ]
  }
 ],
 "metadata": {
  "language_info": {
   "name": "python"
  }
 },
 "nbformat": 4,
 "nbformat_minor": 5
}
