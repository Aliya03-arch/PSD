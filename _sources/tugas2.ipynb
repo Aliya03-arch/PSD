{
 "cells": [
  {
   "cell_type": "markdown",
   "id": "6f137f0a",
   "metadata": {},
   "source": [
    "# Data Understanding CRISP DM"
   ]
  },
  {
   "cell_type": "markdown",
   "id": "e0434c2d",
   "metadata": {},
   "source": [
    "Data understanding adalah tahap pemahaman data, yaitu mengidentifikasi, mengumpulkan, dan menganalisis kumpulan data yang dapat membantu untuk mencapai tujuan proyek. Kegiatan pada tahap ini adalah mengumpulkan data awal, menjelaskan data, menjelajahi data, dan memverifikasi kualitas data.\n",
    "\n",
    "Contoh Penerapan: Implementasi CRISP-DM di RetailMart\n",
    "\n",
    "Ambil contoh dari sumber yang menjelaskan sebuah kasus RetailMart:\n",
    "\n",
    "Latar belakang: Sebuah toko online elektronik menghadapi persaingan ketat dari platform pesaing baru. Mereka perlu mempertahankan profitabilitas di tengah biaya akuisisi pelanggan yang tinggi \n",
    "Program Studi Sistem Informasi\n",
    "\n",
    "Pihak RetailMart akan mengumpulkan data dari berbagai sumber, seperti transaksi penjualan, data demografi pelanggan, dan interaksi pelanggan di berbagai saluran. Setelah itu, RetailMart akan melakukan eksplorasi awal data untuk memahami distribusi, kualitas, dan keterkaitan data.\n",
    "\n",
    "Data Understanding dalam contoh ini mencakup:\n",
    "\n",
    "1. Mengidentifikasi data yang relevan.\n",
    "2. Menilai kualitas data (misalnya, mengidentifikasi data yang hilang atau outlier).\n",
    "3. Membuat ringkasan statistik awal untuk mendapatkan wawasan awal tentang data."
   ]
  }
 ],
 "metadata": {
  "language_info": {
   "name": "python"
  }
 },
 "nbformat": 4,
 "nbformat_minor": 5
}
