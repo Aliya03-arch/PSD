{
 "cells": [
  {
   "cell_type": "markdown",
   "id": "20142ea3",
   "metadata": {},
   "source": [
    "# Business Understanding CRISP DM"
   ]
  }
 ],
 "metadata": {
  "language_info": {
   "name": "python"
  }
 },
 "nbformat": 4,
 "nbformat_minor": 5
}
